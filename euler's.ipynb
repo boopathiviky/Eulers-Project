{
  "nbformat": 4,
  "nbformat_minor": 0,
  "metadata": {
    "kernelspec": {
      "display_name": "Python 3",
      "language": "python",
      "name": "python3"
    },
    "language_info": {
      "codemirror_mode": {
        "name": "ipython",
        "version": 3
      },
      "file_extension": ".py",
      "mimetype": "text/x-python",
      "name": "python",
      "nbconvert_exporter": "python",
      "pygments_lexer": "ipython3",
      "version": "3.7.9"
    },
    "colab": {
      "name": "euler's.ipynb",
      "provenance": [],
      "include_colab_link": true
    }
  },
  "cells": [
    {
      "cell_type": "markdown",
      "metadata": {
        "id": "view-in-github",
        "colab_type": "text"
      },
      "source": [
        "<a href=\"https://colab.research.google.com/github/boopathiviky/Eulers-Project/blob/repo/euler's.ipynb\" target=\"_parent\"><img src=\"https://colab.research.google.com/assets/colab-badge.svg\" alt=\"Open In Colab\"/></a>"
      ]
    },
    {
      "cell_type": "markdown",
      "metadata": {
        "id": "rnT1LLS89sOe"
      },
      "source": [
        "#1.multiples of 3 and 5"
      ]
    },
    {
      "cell_type": "code",
      "metadata": {
        "id": "HvUof5LBwROO",
        "colab": {
          "base_uri": "https://localhost:8080/"
        },
        "outputId": "751227b3-7793-499d-8e85-dc137cca7cb1"
      },
      "source": [
        "sum1=0\n",
        "x=int(input())\n",
        "for i in range(1,x):\n",
        "    if(i%3==0 or i%5==0):\n",
        "        sum1=sum1+i\n",
        "print(sum1)"
      ],
      "execution_count": 14,
      "outputs": [
        {
          "output_type": "stream",
          "text": [
            "1000\n",
            "233168\n"
          ],
          "name": "stdout"
        }
      ]
    },
    {
      "cell_type": "markdown",
      "metadata": {
        "id": "nVgS2Bd-9fLP"
      },
      "source": [
        "#2.even fib numbers"
      ]
    },
    {
      "cell_type": "code",
      "metadata": {
        "colab": {
          "base_uri": "https://localhost:8080/"
        },
        "id": "bb55ZQNywROV",
        "outputId": "60da8e94-3d2d-4e9e-cc87-953a180b20c9"
      },
      "source": [
        "a=0\n",
        "b=1\n",
        "c=0\n",
        "sum2=0\n",
        "for i in range(0,10):\n",
        "  c=a+b\n",
        "  a=b\n",
        "  b=c\n",
        "  print(c)\n",
        "  if(c%2==0):\n",
        "    sum2=sum2+c\n",
        "print('sum',sum2)"
      ],
      "execution_count": 15,
      "outputs": [
        {
          "output_type": "stream",
          "text": [
            "1\n",
            "2\n",
            "3\n",
            "5\n",
            "8\n",
            "13\n",
            "21\n",
            "34\n",
            "55\n",
            "89\n",
            "sum 44\n"
          ],
          "name": "stdout"
        }
      ]
    },
    {
      "cell_type": "markdown",
      "metadata": {
        "id": "yvcvszBD9OmH"
      },
      "source": [
        "#3.prime fact of "
      ]
    },
    {
      "cell_type": "code",
      "metadata": {
        "id": "q9L4J1ue5z0g"
      },
      "source": [
        "def isprime(n):\n",
        "  pr=1\n",
        "  for i in range(2,int(n/2)):\n",
        "    if(n%i==0):\n",
        "      pr=0\n",
        "      break\n",
        "  if(pr==1):\n",
        "    print(n)"
      ],
      "execution_count": 16,
      "outputs": []
    },
    {
      "cell_type": "code",
      "metadata": {
        "colab": {
          "base_uri": "https://localhost:8080/"
        },
        "id": "MKt1cwwIwROW",
        "outputId": "9aa726fd-a65d-40a3-a5ef-c9b3ae4a48a7"
      },
      "source": [
        "x=int(input())\n",
        "for i in range(2,x):\n",
        "  if(x%i==0):\n",
        "    isprime(i)"
      ],
      "execution_count": 17,
      "outputs": [
        {
          "output_type": "stream",
          "text": [
            "15\n",
            "3\n",
            "5\n"
          ],
          "name": "stdout"
        }
      ]
    },
    {
      "cell_type": "markdown",
      "metadata": {
        "id": "Ftyrsse8-B5B"
      },
      "source": [
        "#4.Largest palindrome product"
      ]
    },
    {
      "cell_type": "code",
      "metadata": {
        "colab": {
          "base_uri": "https://localhost:8080/"
        },
        "id": "Yut03mzM-A5g",
        "outputId": "5845f63a-84a9-4a73-ddba-bcb6faa79e94"
      },
      "source": [
        "li=[]\n",
        "def ispalindrome(c):\n",
        "  if(str(c) == str(c)[::-1]):\n",
        "    li.append(c)\n",
        "    #print(list)\n",
        "    li.sort()\n",
        "\n",
        "for i in range(100,1000):\n",
        "  for k in range(i,1000):\n",
        "    a=i*k\n",
        "    ispalindrome(a)\n",
        "print(\"Largest palindrome is:\", li[-1]) "
      ],
      "execution_count": 18,
      "outputs": [
        {
          "output_type": "stream",
          "text": [
            "Largest palindrome is: 906609\n"
          ],
          "name": "stdout"
        }
      ]
    },
    {
      "cell_type": "markdown",
      "metadata": {
        "id": "QymTVbhMDjBh"
      },
      "source": [
        "#5.Smallest multiple"
      ]
    },
    {
      "cell_type": "code",
      "metadata": {
        "colab": {
          "base_uri": "https://localhost:8080/"
        },
        "id": "lJrZX2xj0fd1",
        "outputId": "e52c2c20-ee39-4459-912c-0e746e66a6c8"
      },
      "source": [
        "n=1\n",
        " \n",
        "while (n>=1):\n",
        "  n=n+1\n",
        "  c=1\n",
        "  for i in range(1,11):\n",
        "    if (n%i==0):\n",
        "      c=c+1\n",
        "  if (c>10):\n",
        "    print(n)\n",
        "    break\n"
      ],
      "execution_count": 19,
      "outputs": [
        {
          "output_type": "stream",
          "text": [
            "2520\n"
          ],
          "name": "stdout"
        }
      ]
    },
    {
      "cell_type": "markdown",
      "metadata": {
        "id": "_zXD5BvSbAq-"
      },
      "source": [
        "#6.Sum square difference"
      ]
    },
    {
      "cell_type": "code",
      "metadata": {
        "colab": {
          "base_uri": "https://localhost:8080/"
        },
        "id": "lAGu_EU32p3M",
        "outputId": "7dad2c84-b221-431f-95cf-424aa9c7d346"
      },
      "source": [
        "sq1=0\n",
        "sq=0\n",
        "# i insiate start,stop 10 1,9 1,11\n",
        "for i in range(1,100+1):\n",
        "  sq=i**2\n",
        "  sq1=sq1+sq\n",
        "sqr=0\n",
        "for j in range(1,100+1):\n",
        "  sqr=sqr+j\n",
        "s1=sqr**2\n",
        "final=s1-sq1\n",
        "print(sq1)\n",
        "print(s1)\n",
        "print(final)"
      ],
      "execution_count": 20,
      "outputs": [
        {
          "output_type": "stream",
          "text": [
            "338350\n",
            "25502500\n",
            "25164150\n"
          ],
          "name": "stdout"
        }
      ]
    },
    {
      "cell_type": "code",
      "metadata": {
        "id": "u0UFlmpKcVTu"
      },
      "source": [
        "# sq1=0\n",
        "# for i in range(1,10+1):\n",
        "#   sq=i**2\n",
        "#   sq1=sq1+sq\n",
        "#   print(sq)\n",
        "#   print('\\t',sq1)"
      ],
      "execution_count": 21,
      "outputs": []
    },
    {
      "cell_type": "markdown",
      "metadata": {
        "id": "m5m02B5_gcc5"
      },
      "source": [
        "#7.10001st prime"
      ]
    },
    {
      "cell_type": "code",
      "metadata": {
        "colab": {
          "base_uri": "https://localhost:8080/"
        },
        "id": "gWmBzbangmHw",
        "outputId": "f738531a-25df-4826-b421-93c3b1977ee8"
      },
      "source": [
        "def isprime(n):\n",
        "  pr=1\n",
        "  for i in range(2,int(n/2)):\n",
        "    if(n%i==0):\n",
        "      pr=0\n",
        "      break\n",
        "  if(pr==1):\n",
        "    return 1\n",
        "c=0\n",
        "for i in range(3,1000000):\n",
        "  if (isprime(i)==1):\n",
        "    c=c+1\n",
        "  if (c>=10001):\n",
        "    print (i)\n",
        "    break\n",
        "\n"
      ],
      "execution_count": 22,
      "outputs": [
        {
          "output_type": "stream",
          "text": [
            "104743\n"
          ],
          "name": "stdout"
        }
      ]
    },
    {
      "cell_type": "markdown",
      "metadata": {
        "id": "2Q--Dmi-4cwF"
      },
      "source": [
        "#8.Largest product in a series"
      ]
    },
    {
      "cell_type": "code",
      "metadata": {
        "colab": {
          "base_uri": "https://localhost:8080/"
        },
        "id": "BpXCh7jo4fWy",
        "outputId": "fe05dd33-225e-4b08-8f94-49a6b3b10e66"
      },
      "source": [
        "n='731671765313306249192251196744265747423553491949349698352031277450632623957831801698480186947885184385861560789112949495459501737958331952853208805511\\\n",
        "125406987471585238630507156932909632952274430435576689664895044524452316173185640309871112172238311362229893423380308135336276614282806444486645238749\\\n",
        "303589072962904915604407723907138105158593079608667017242712188399879790879227492190169972088809377665727333001053367881220235421809751254540594752243\\\n",
        "525849077116705560136048395864467063244157221553975369781797784617406495514929086256932197846862248283972241375657056057490261407972968652414535100474\\\n",
        "821663704844031998900088952434506585412275886668811642717147992444292823086346567481391912316282458617866458359124566529476545682848912883142\\\n",
        "60769004224219022671055626321111109370544217506941658960408\\\n",
        "0719840385096245544436298123098787992724428490918884580156166097919133875499200524063689912560717606\\\n",
        "0588611646710940507754100225698315520005593572972571636269561882670428252483600823257530420752963450'\n",
        "lst=[]\n",
        "h=1\n",
        "lst=str(n)\n",
        "p=13\n",
        "for i in range(0,1000):\n",
        "  temp=lst[i:i+p]\n",
        "  sum1=1\n",
        "  for j in range(len(temp)):\n",
        "    v=int(temp[j])\n",
        "    sum1=sum1*v\n",
        "    if h<sum1 :\n",
        "      h=sum1\n",
        "print(h)\n",
        "\n",
        "  "
      ],
      "execution_count": 23,
      "outputs": [
        {
          "output_type": "stream",
          "text": [
            "23514624000\n"
          ],
          "name": "stdout"
        }
      ]
    },
    {
      "cell_type": "markdown",
      "metadata": {
        "id": "S4TaWXuPKhfz"
      },
      "source": [
        "#9.Special Pythagorean triplet"
      ]
    },
    {
      "cell_type": "code",
      "metadata": {
        "colab": {
          "base_uri": "https://localhost:8080/"
        },
        "id": "JEdfxRaO-Qwt",
        "outputId": "01c86ad3-be49-4f9e-c88e-ad72b93d9aed"
      },
      "source": [
        "for i in range(500):\n",
        "  for j in range(500):\n",
        "    for k  in range(500):\n",
        "      if i+j+k == 1000:\n",
        "        if i<j<k:\n",
        "          if i**2+j**2==k**2:\n",
        "            print (i,j,k)\n"
      ],
      "execution_count": 24,
      "outputs": [
        {
          "output_type": "stream",
          "text": [
            "200 375 425\n"
          ],
          "name": "stdout"
        }
      ]
    },
    {
      "cell_type": "markdown",
      "metadata": {
        "id": "E1v3ClkNO6DG"
      },
      "source": [
        "#10.Summation of primes"
      ]
    },
    {
      "cell_type": "code",
      "metadata": {
        "colab": {
          "base_uri": "https://localhost:8080/",
          "height": 207
        },
        "id": "S5F2TG8q5tEp",
        "outputId": "2f978cc9-eb95-4a2c-deea-588a3a130e8b"
      },
      "source": [
        "num1=[]\n",
        "pr=0\n",
        "for num in range(0,11):\n",
        "  if num>=1:\n",
        "    for i in range(2,num):\n",
        "      if(num%i==0):\n",
        "        pr=0\n",
        "        break\n",
        "      else:\n",
        "        pr=1\n",
        "    if(pr==1):\n",
        "      num1.append(num)\n",
        "print(sum(num1))"
      ],
      "execution_count": 26,
      "outputs": [
        {
          "output_type": "error",
          "ename": "TypeError",
          "evalue": "ignored",
          "traceback": [
            "\u001b[0;31m---------------------------------------------------------------------------\u001b[0m",
            "\u001b[0;31mTypeError\u001b[0m                                 Traceback (most recent call last)",
            "\u001b[0;32m<ipython-input-26-2e492d4a0a99>\u001b[0m in \u001b[0;36m<module>\u001b[0;34m()\u001b[0m\n\u001b[1;32m     11\u001b[0m     \u001b[0;32mif\u001b[0m\u001b[0;34m(\u001b[0m\u001b[0mpr\u001b[0m\u001b[0;34m==\u001b[0m\u001b[0;36m1\u001b[0m\u001b[0;34m)\u001b[0m\u001b[0;34m:\u001b[0m\u001b[0;34m\u001b[0m\u001b[0;34m\u001b[0m\u001b[0m\n\u001b[1;32m     12\u001b[0m       \u001b[0mnum1\u001b[0m\u001b[0;34m.\u001b[0m\u001b[0mappend\u001b[0m\u001b[0;34m(\u001b[0m\u001b[0mnum\u001b[0m\u001b[0;34m)\u001b[0m\u001b[0;34m\u001b[0m\u001b[0;34m\u001b[0m\u001b[0m\n\u001b[0;32m---> 13\u001b[0;31m \u001b[0mprint\u001b[0m\u001b[0;34m(\u001b[0m\u001b[0msum\u001b[0m\u001b[0;34m(\u001b[0m\u001b[0mnum1\u001b[0m\u001b[0;34m)\u001b[0m\u001b[0;34m)\u001b[0m\u001b[0;34m\u001b[0m\u001b[0;34m\u001b[0m\u001b[0m\n\u001b[0m",
            "\u001b[0;31mTypeError\u001b[0m: 'int' object is not callable"
          ]
        }
      ]
    },
    {
      "cell_type": "markdown",
      "metadata": {
        "id": "OHIFXoejhPJK"
      },
      "source": [
        "#11.Largest product in a grid\n"
      ]
    },
    {
      "cell_type": "code",
      "metadata": {
        "colab": {
          "base_uri": "https://localhost:8080/"
        },
        "id": "THpqNTVbisSx",
        "outputId": "d1685514-a039-4403-c954-a6f0355054de"
      },
      "source": [
        "import numpy as np\n",
        "lst1=[]\n",
        "lst2=[]\n",
        "lst3=[]\n",
        "lst4=[]\n",
        "dt=np.genfromtxt('data.txt', delimiter=' ')\n",
        "rows, cols=dt.shape\n",
        "print(dt[0])\n",
        "su=1\n",
        "for i in range(0,rows):\n",
        "    for j in range(0,cols):\n",
        "      # forward\n",
        "      if(j+4<=cols):\n",
        "            su=dt[i,j]*dt[i,j+1]*dt[i,j+2]*dt[i,j+3]\n",
        "            lst1.append(su)\n",
        "            su=1\n",
        "            #downward\n",
        "      if(i+4<=rows):\n",
        "            su=dt[i,j]*dt[i+1,j]*dt[i+2,j]*dt[i+3,j]\n",
        "            lst2.append(su)\n",
        "            su=1\n",
        "            # diagonal l-r\n",
        "      if(i+4<=rows and j+4<=cols):\n",
        "            su=dt[i,j]*dt[i+1,j+1]*dt[i+2,j+2]*dt[i+3,j+3]\n",
        "            lst3.append(su)\n",
        "            su=1\n",
        "            # diagonal r-l\n",
        "      if(j>2 and i<cols-3):\n",
        "          su=dt[i,j]*dt[i+1,j-1]*dt[i+2,j-2]*dt[i+3,j-3]\n",
        "          lst4.append(su)\n",
        "          su=1\n",
        "print(max(lst1),max(lst2),max(lst3),max(lst4))            "
      ],
      "execution_count": 27,
      "outputs": [
        {
          "output_type": "stream",
          "text": [
            "[ 8.  2. 22. 97. 38. 15.  0. 40.  0. 75.  4.  5.  7. 78. 52. 12. 50. 77.\n",
            " 91.  8.]\n",
            "48477312.0 51267216.0 40304286.0 70600674.0\n"
          ],
          "name": "stdout"
        }
      ]
    },
    {
      "cell_type": "code",
      "metadata": {
        "id": "yoTI6Xomi9YK"
      },
      "source": [
        "\n"
      ],
      "execution_count": 12,
      "outputs": []
    },
    {
      "cell_type": "code",
      "metadata": {
        "id": "3cHoebVzjhE3"
      },
      "source": [
        ""
      ],
      "execution_count": 13,
      "outputs": []
    },
    {
      "cell_type": "code",
      "metadata": {
        "id": "tCzXJFzkj6O-"
      },
      "source": [
        ""
      ],
      "execution_count": null,
      "outputs": []
    }
  ]
}