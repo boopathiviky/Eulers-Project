{
  "nbformat": 4,
  "nbformat_minor": 0,
  "metadata": {
    "kernelspec": {
      "display_name": "Python 3",
      "language": "python",
      "name": "python3"
    },
    "language_info": {
      "codemirror_mode": {
        "name": "ipython",
        "version": 3
      },
      "file_extension": ".py",
      "mimetype": "text/x-python",
      "name": "python",
      "nbconvert_exporter": "python",
      "pygments_lexer": "ipython3",
      "version": "3.7.9"
    },
    "colab": {
      "name": "euler's.ipynb",
      "provenance": []
    }
  },
  "cells": [
    {
      "cell_type": "markdown",
      "metadata": {
        "id": "rnT1LLS89sOe"
      },
      "source": [
        "#1.multiples of 3 and 5"
      ]
    },
    {
      "cell_type": "code",
      "metadata": {
        "id": "HvUof5LBwROO"
      },
      "source": [
        "sum1=0\n",
        "x=int(input())\n",
        "for i in range(1,x):\n",
        "    if(i%3==0 or i%5==0):\n",
        "        sum1=sum1+i\n",
        "print(sum1)"
      ],
      "execution_count": null,
      "outputs": []
    },
    {
      "cell_type": "markdown",
      "metadata": {
        "id": "nVgS2Bd-9fLP"
      },
      "source": [
        "#2.even fib numbers"
      ]
    },
    {
      "cell_type": "code",
      "metadata": {
        "colab": {
          "base_uri": "https://localhost:8080/"
        },
        "id": "bb55ZQNywROV",
        "outputId": "f099af74-9834-47e4-9f5f-0cb3cc10ffe8"
      },
      "source": [
        "a=0\n",
        "b=1\n",
        "c=0\n",
        "sum=0\n",
        "for i in range(0,10):\n",
        "  c=a+b\n",
        "  a=b\n",
        "  b=c\n",
        "  print(c)\n",
        "  if(c%2==0):\n",
        "    sum=sum+c\n",
        "print('sum',sum)"
      ],
      "execution_count": null,
      "outputs": [
        {
          "output_type": "stream",
          "text": [
            "1\n",
            "2\n",
            "3\n",
            "5\n",
            "8\n",
            "13\n",
            "21\n",
            "34\n",
            "55\n",
            "89\n",
            "sum 44\n"
          ],
          "name": "stdout"
        }
      ]
    },
    {
      "cell_type": "markdown",
      "metadata": {
        "id": "yvcvszBD9OmH"
      },
      "source": [
        "#3.prime fact of "
      ]
    },
    {
      "cell_type": "code",
      "metadata": {
        "id": "q9L4J1ue5z0g"
      },
      "source": [
        "def isprime(n):\n",
        "  pr=1\n",
        "  for i in range(2,int(n/2)):\n",
        "    if(n%i==0):\n",
        "      pr=0\n",
        "      break\n",
        "  if(pr==1):\n",
        "    print(n)"
      ],
      "execution_count": null,
      "outputs": []
    },
    {
      "cell_type": "code",
      "metadata": {
        "colab": {
          "base_uri": "https://localhost:8080/"
        },
        "id": "MKt1cwwIwROW",
        "outputId": "72db9bbc-6b93-4de1-b945-2222cb2947cc"
      },
      "source": [
        "x=int(input())\n",
        "for i in range(2,x):\n",
        "  if(x%i==0):\n",
        "    isprime(i)"
      ],
      "execution_count": null,
      "outputs": [
        {
          "output_type": "stream",
          "text": [
            "13195\n",
            "5\n",
            "7\n",
            "13\n",
            "29\n"
          ],
          "name": "stdout"
        }
      ]
    },
    {
      "cell_type": "markdown",
      "metadata": {
        "id": "Ftyrsse8-B5B"
      },
      "source": [
        "#4.Largest palindrome product"
      ]
    },
    {
      "cell_type": "code",
      "metadata": {
        "colab": {
          "base_uri": "https://localhost:8080/"
        },
        "id": "Yut03mzM-A5g",
        "outputId": "d10e3297-ff60-4f0f-ac62-8c1e81389c9c"
      },
      "source": [
        "li=[]\n",
        "def ispalindrome(c):\n",
        "  if(str(c) == str(c)[::-1]):\n",
        "    li.append(c)\n",
        "    #print(list)\n",
        "    li.sort()\n",
        "\n",
        "for i in range(100,1000):\n",
        "  for k in range(i,1000):\n",
        "    a=i*k\n",
        "    ispalindrome(a)\n",
        "print(\"Largest palindrome is:\", li[-1]) "
      ],
      "execution_count": null,
      "outputs": [
        {
          "output_type": "stream",
          "text": [
            "Largest palindrome is: 906609\n"
          ],
          "name": "stdout"
        }
      ]
    },
    {
      "cell_type": "markdown",
      "metadata": {
        "id": "QymTVbhMDjBh"
      },
      "source": [
        "#5.Smallest multiple"
      ]
    },
    {
      "cell_type": "code",
      "metadata": {
        "colab": {
          "base_uri": "https://localhost:8080/"
        },
        "id": "lJrZX2xj0fd1",
        "outputId": "dfccf658-fa91-4979-fe44-c6e1f6c89ec0"
      },
      "source": [
        "n=1\n",
        " \n",
        "while (n>=1):\n",
        "  n=n+1\n",
        "  c=1\n",
        "  for i in range(1,11):\n",
        "    if (n%i==0):\n",
        "      c=c+1\n",
        "  if (c>10):\n",
        "    print(n)\n",
        "    break\n"
      ],
      "execution_count": null,
      "outputs": [
        {
          "output_type": "stream",
          "text": [
            "2520\n"
          ],
          "name": "stdout"
        }
      ]
    },
    {
      "cell_type": "markdown",
      "metadata": {
        "id": "_zXD5BvSbAq-"
      },
      "source": [
        "#6.Sum square difference"
      ]
    },
    {
      "cell_type": "code",
      "metadata": {
        "colab": {
          "base_uri": "https://localhost:8080/"
        },
        "id": "lAGu_EU32p3M",
        "outputId": "8cfd7906-4025-4823-baeb-aaeb65577249"
      },
      "source": [
        "sq1=0\n",
        "sq=0\n",
        "# i insiate start,stop 10 1,9 1,11\n",
        "for i in range(1,100+1):\n",
        "  sq=i**2\n",
        "  sq1=sq1+sq\n",
        "sqr=0\n",
        "for j in range(1,100+1):\n",
        "  sqr=sqr+j\n",
        "s1=sqr**2\n",
        "final=s1-sq1\n",
        "print(sq1)\n",
        "print(s1)\n",
        "print(final)"
      ],
      "execution_count": null,
      "outputs": [
        {
          "output_type": "stream",
          "text": [
            "338350\n",
            "25502500\n",
            "25164150\n"
          ],
          "name": "stdout"
        }
      ]
    },
    {
      "cell_type": "code",
      "metadata": {
        "colab": {
          "base_uri": "https://localhost:8080/"
        },
        "id": "u0UFlmpKcVTu",
        "outputId": "45a870ef-2c0d-4ecd-f5c0-d89a6eb102c7"
      },
      "source": [
        "# sq1=0\n",
        "# for i in range(1,10+1):\n",
        "#   sq=i**2\n",
        "#   sq1=sq1+sq\n",
        "#   print(sq)\n",
        "#   print('\\t',sq1)"
      ],
      "execution_count": null,
      "outputs": [
        {
          "output_type": "stream",
          "text": [
            "1\n",
            "\t 1\n",
            "4\n",
            "\t 5\n",
            "9\n",
            "\t 14\n",
            "16\n",
            "\t 30\n",
            "25\n",
            "\t 55\n",
            "36\n",
            "\t 91\n",
            "49\n",
            "\t 140\n",
            "64\n",
            "\t 204\n",
            "81\n",
            "\t 285\n",
            "100\n",
            "\t 385\n"
          ],
          "name": "stdout"
        }
      ]
    },
    {
      "cell_type": "markdown",
      "metadata": {
        "id": "m5m02B5_gcc5"
      },
      "source": [
        "#7.10001st prime"
      ]
    },
    {
      "cell_type": "code",
      "metadata": {
        "colab": {
          "base_uri": "https://localhost:8080/"
        },
        "id": "gWmBzbangmHw",
        "outputId": "9a641575-e76d-4ad7-f93b-c91c637b9ab5"
      },
      "source": [
        "def isprime(n):\n",
        "  pr=1\n",
        "  for i in range(2,int(n/2)):\n",
        "    if(n%i==0):\n",
        "      pr=0\n",
        "      break\n",
        "  if(pr==1):\n",
        "    return 1\n",
        "c=0\n",
        "for i in range(3,1000000):\n",
        "  if (isprime(i)==1):\n",
        "    c=c+1\n",
        "  if (c>=10001):\n",
        "    print (i)\n",
        "    break\n",
        "\n"
      ],
      "execution_count": null,
      "outputs": [
        {
          "output_type": "stream",
          "text": [
            "104743\n"
          ],
          "name": "stdout"
        }
      ]
    }
  ]
}